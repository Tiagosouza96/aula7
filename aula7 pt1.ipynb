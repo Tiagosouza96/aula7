{
 "cells": [
  {
   "cell_type": "code",
   "execution_count": 74,
   "id": "aa9ef07b-0ea5-4e91-bd32-5ab6de0532d0",
   "metadata": {},
   "outputs": [],
   "source": [
    "# importando a biblioteca para fazer operações em banco de dados sqlite3\n",
    "import sqlite3\n",
    "# importando a bibliotecas pandas para transformar dados e tabelas do banco em data frames \n",
    "import pandas as pd"
   ]
  },
  {
   "cell_type": "code",
   "execution_count": 76,
   "id": "99aaae80-e4f7-412e-b8f2-ab125332ef4d",
   "metadata": {},
   "outputs": [],
   "source": [
    "# criaremos a conexão com nosso banco de dados\n",
    "# se ele não existir, será criado\n",
    "conn = sqlite3.connect(\"database.db\")"
   ]
  },
  {
   "cell_type": "code",
   "execution_count": 78,
   "id": "2bdb2f7f-de56-4241-817e-cf2746f8f90f",
   "metadata": {},
   "outputs": [],
   "source": [
    "# Podemos agora criar tabelas\n",
    "# criaremos a tabela (table) tasks com campos (fields) id, description e done\n",
    "conn.execute(\"\"\"\n",
    "    CREATE TABLE IF NOT EXISTS tasks\n",
    "    (\n",
    "        id INTEGER PRIMARY KEY AUTOINCREMENT,\n",
    "        description TEXT,\n",
    "        done INTEGER\n",
    "    )    \n",
    "\"\"\")\n",
    "# após executar uma operação é necessário salvá-la\n",
    "conn.commit()"
   ]
  },
  {
   "cell_type": "code",
   "execution_count": 80,
   "id": "5a73fb98-7766-4205-a9f2-82c88f2d4be2",
   "metadata": {},
   "outputs": [],
   "source": [
    "# criaremos agora um registro (row) na tabela tasks\n",
    "# o registro terá valor 'Estudar seaborn' para description e 0 para done.\n",
    "conn.execute(\"\"\"\n",
    "    INSERT INTO tasks (description, done)\n",
    "    VALUES ('Estudar seaborn', 0);    \n",
    "\"\"\")\n",
    "# novamente, após executar o comando é necessário salvar\n",
    "conn.commit()"
   ]
  },
  {
   "cell_type": "code",
   "execution_count": 82,
   "id": "ca1c0840-1e12-45dc-b884-3bcc2a4ba04b",
   "metadata": {},
   "outputs": [],
   "source": [
    "conn.execute(\"\"\"\n",
    "    INSERT INTO tasks (description, done)\n",
    "    VALUES ('Estudar python', 1)\n",
    "\"\"\")\n",
    "\n",
    "# Salvar as alterações\n",
    "conn.commit()\n"
   ]
  },
  {
   "cell_type": "code",
   "execution_count": 84,
   "id": "46e56596-3348-4e81-933b-1f7e9adbf064",
   "metadata": {},
   "outputs": [],
   "source": [
    "conn.execute(\"\"\"\n",
    "    INSERT INTO tasks (description, done)\n",
    "    VALUES ('Entregar livro', 0)\n",
    "\"\"\")\n",
    "\n",
    "# Salvar as alterações\n",
    "conn.commit()\n"
   ]
  },
  {
   "cell_type": "code",
   "execution_count": 86,
   "id": "14879a32-f203-4e2d-b516-9f58c023b859",
   "metadata": {},
   "outputs": [
    {
     "name": "stdout",
     "output_type": "stream",
     "text": [
      "(2, 'Estudar python', 1)\n",
      "(3, 'Entregar livro', 0)\n",
      "(4, 'Estudar seaborn', 0)\n",
      "(5, 'Estudar python', 1)\n",
      "(6, 'Entregar livro', 0)\n"
     ]
    }
   ],
   "source": [
    "# podemos agora visualizar todos (*) os registros da (FROM) tabela tasks\n",
    "results = conn.execute(\"\"\"\n",
    "    SELECT *\n",
    "    FROM tasks\n",
    "\"\"\").fetchall()\n",
    "# imprimindo cada resultado\n",
    "for result in results:\n",
    "    print(result)"
   ]
  },
  {
   "cell_type": "code",
   "execution_count": 88,
   "id": "7200c50d-1b65-4632-a569-0a6d6936d030",
   "metadata": {},
   "outputs": [
    {
     "name": "stdout",
     "output_type": "stream",
     "text": [
      "('Entregar livro',)\n",
      "('Estudar seaborn',)\n",
      "('Entregar livro',)\n"
     ]
    }
   ],
   "source": [
    "# ver os valores de description da (FROM) tabela tasks onde (WHERE) done = 0\n",
    "results = conn.execute(\"\"\"\n",
    "    SELECT description\n",
    "    FROM tasks\n",
    "    WHERE done=0\n",
    "\"\"\").fetchall()\n",
    "# imprimindo cada resultado\n",
    "for result in results:\n",
    "    print(result)"
   ]
  },
  {
   "cell_type": "code",
   "execution_count": 90,
   "id": "e0e6df43-38fc-4f4c-bfae-acb68fcc0b44",
   "metadata": {},
   "outputs": [
    {
     "name": "stdout",
     "output_type": "stream",
     "text": [
      "('Estudar seaborn',)\n"
     ]
    }
   ],
   "source": [
    "results = conn.execute(\"\"\"\n",
    "    SELECT description\n",
    "    FROM tasks\n",
    "    WHERE done = 0 AND description LIKE 'Estudar%'\n",
    "\"\"\").fetchall()\n",
    "\n",
    "# imprimindo cada resultado\n",
    "for result in results:\n",
    "    print(result)\n"
   ]
  },
  {
   "cell_type": "code",
   "execution_count": 92,
   "id": "405491f6-411e-4de7-85c8-7d4fee36aedd",
   "metadata": {},
   "outputs": [],
   "source": [
    "# Atualizar (update) na tabela tasks as linhas (rows) cujo id = 1 fazendo (SET) done = 1\n",
    "conn.execute(\"\"\"\n",
    "    UPDATE tasks\n",
    "    SET done=1\n",
    "    WHERE id=1\n",
    "\"\"\")\n",
    "# salvando as atualizações\n",
    "conn.commit()"
   ]
  },
  {
   "cell_type": "code",
   "execution_count": 94,
   "id": "8305f67c-311e-4a93-8f45-712ff830e8a8",
   "metadata": {},
   "outputs": [],
   "source": [
    "conn.execute(\"\"\"\n",
    "    UPDATE tasks\n",
    "    SET description = 'Estudar matplotlib'\n",
    "    WHERE description = 'Estudar seaborn'\n",
    "\"\"\")\n",
    "\n",
    "# salvando as atualizações\n",
    "conn.commit()\n"
   ]
  },
  {
   "cell_type": "code",
   "execution_count": 96,
   "id": "8f302664-3518-4c6f-963a-d3f74b8a7d5c",
   "metadata": {},
   "outputs": [],
   "source": [
    "# deletar da (FROM) tabela tasks as linhas (rows) onde id = 1\n",
    "conn.execute(\"\"\"\n",
    "    DELETE FROM tasks\n",
    "    WHERE id=1\n",
    "\"\"\")\n",
    "conn.commit()"
   ]
  },
  {
   "cell_type": "code",
   "execution_count": 98,
   "id": "f2075504-04ae-4b2b-80e5-8e8684594fa1",
   "metadata": {},
   "outputs": [
    {
     "data": {
      "text/html": [
       "<div>\n",
       "<style scoped>\n",
       "    .dataframe tbody tr th:only-of-type {\n",
       "        vertical-align: middle;\n",
       "    }\n",
       "\n",
       "    .dataframe tbody tr th {\n",
       "        vertical-align: top;\n",
       "    }\n",
       "\n",
       "    .dataframe thead th {\n",
       "        text-align: right;\n",
       "    }\n",
       "</style>\n",
       "<table border=\"1\" class=\"dataframe\">\n",
       "  <thead>\n",
       "    <tr style=\"text-align: right;\">\n",
       "      <th></th>\n",
       "      <th>id</th>\n",
       "      <th>description</th>\n",
       "      <th>done</th>\n",
       "    </tr>\n",
       "  </thead>\n",
       "  <tbody>\n",
       "    <tr>\n",
       "      <th>0</th>\n",
       "      <td>2</td>\n",
       "      <td>Estudar python</td>\n",
       "      <td>1</td>\n",
       "    </tr>\n",
       "    <tr>\n",
       "      <th>1</th>\n",
       "      <td>3</td>\n",
       "      <td>Entregar livro</td>\n",
       "      <td>0</td>\n",
       "    </tr>\n",
       "    <tr>\n",
       "      <th>2</th>\n",
       "      <td>4</td>\n",
       "      <td>Estudar matplotlib</td>\n",
       "      <td>0</td>\n",
       "    </tr>\n",
       "    <tr>\n",
       "      <th>3</th>\n",
       "      <td>5</td>\n",
       "      <td>Estudar python</td>\n",
       "      <td>1</td>\n",
       "    </tr>\n",
       "    <tr>\n",
       "      <th>4</th>\n",
       "      <td>6</td>\n",
       "      <td>Entregar livro</td>\n",
       "      <td>0</td>\n",
       "    </tr>\n",
       "  </tbody>\n",
       "</table>\n",
       "</div>"
      ],
      "text/plain": [
       "   id         description  done\n",
       "0   2      Estudar python     1\n",
       "1   3      Entregar livro     0\n",
       "2   4  Estudar matplotlib     0\n",
       "3   5      Estudar python     1\n",
       "4   6      Entregar livro     0"
      ]
     },
     "execution_count": 98,
     "metadata": {},
     "output_type": "execute_result"
    }
   ],
   "source": [
    "df = pd.read_sql_query(\n",
    "    \"\"\"\n",
    "       SELECT *\n",
    "       FROM tasks\n",
    "    \"\"\",\n",
    "    conn\n",
    ")\n",
    "df"
   ]
  },
  {
   "cell_type": "code",
   "execution_count": 100,
   "id": "d70a185f-18e3-4e55-b6a0-d46c8d4af63c",
   "metadata": {},
   "outputs": [
    {
     "data": {
      "text/plain": [
       "done\n",
       "0    3\n",
       "1    2\n",
       "Name: count, dtype: int64"
      ]
     },
     "execution_count": 100,
     "metadata": {},
     "output_type": "execute_result"
    }
   ],
   "source": [
    "df['done'].value_counts()"
   ]
  },
  {
   "cell_type": "code",
   "execution_count": 102,
   "id": "6958621f-1336-4ae2-a48e-523d4f3690ef",
   "metadata": {},
   "outputs": [
    {
     "name": "stdout",
     "output_type": "stream",
     "text": [
      "(0, 3)\n",
      "(1, 2)\n"
     ]
    }
   ],
   "source": [
    "results = conn.execute(\"\"\"\n",
    "    SELECT done, COUNT(*) AS done_tasks\n",
    "    FROM tasks\n",
    "    GROUP BY done;      \n",
    "\"\"\").fetchall()\n",
    "\n",
    "for result in results:\n",
    "    print(result)\n",
    "conn.close()"
   ]
  },
  {
   "cell_type": "code",
   "execution_count": 104,
   "id": "551e62fe-20c1-4af0-9423-f83f90b2b356",
   "metadata": {},
   "outputs": [],
   "source": [
    "conn = sqlite3.connect(\"database_2.db\")\n",
    "\n",
    "conn.execute(\"\"\"\n",
    "    CREATE TABLE categories \n",
    "    (\n",
    "      id    INTEGER PRIMARY KEY, \n",
    "      name  TEXT NOT NULL\n",
    "    );\n",
    "\"\"\")\n",
    "\n",
    "conn.execute(\n",
    "    \"\"\"\n",
    "        INSERT INTO categories (name)\n",
    "        VALUES\n",
    "          ('casa'),\n",
    "          ('laser'),\n",
    "          ('faculdade')\n",
    "    \"\"\"\n",
    ")\n",
    "conn.commit()"
   ]
  },
  {
   "cell_type": "code",
   "execution_count": 106,
   "id": "cb96416a-4273-480b-ba32-a9d8e856dc31",
   "metadata": {},
   "outputs": [],
   "source": [
    "conn.execute(\"\"\"\n",
    "    CREATE TABLE tasks \n",
    "    (\n",
    "      id            INTEGER PRIMARY KEY AUTOINCREMENT, \n",
    "      description   TEXT NOT NULL,\n",
    "      done          INTEGER,\n",
    "      category_id   INTEGER NOT NULL,\n",
    "      FOREIGN KEY (category_id) REFERENCES categories (id)\n",
    "    )\n",
    "\"\"\")\n",
    "conn.commit()"
   ]
  },
  {
   "cell_type": "code",
   "execution_count": 108,
   "id": "0e3d12fb-d054-4f90-b113-23ee995ee9fa",
   "metadata": {},
   "outputs": [],
   "source": [
    "# insert many\n",
    "conn.execute(\n",
    "    \"\"\"\n",
    "    INSERT INTO 'tasks' (description, done, category_id)\n",
    "    VALUES\n",
    "      ('Assistir Netflix', 1, 2),\n",
    "      ('Estudar matplotlib', 0, 3),\n",
    "      ('Estudar seaborn', 0, 3),\n",
    "      ('Estudar Pandas', 0, 3),\n",
    "      ('Lavar louça', 0, 1)\n",
    "    \"\"\"\n",
    ")\n",
    "conn.commit()"
   ]
  },
  {
   "cell_type": "code",
   "execution_count": 110,
   "id": "1037fb19-3983-4253-95c2-25205f07c4da",
   "metadata": {},
   "outputs": [
    {
     "name": "stdout",
     "output_type": "stream",
     "text": [
      "(5, 'Lavar louça', 0, 'casa')\n",
      "(2, 'Estudar matplotlib', 0, 'faculdade')\n",
      "(3, 'Estudar seaborn', 0, 'faculdade')\n",
      "(4, 'Estudar Pandas', 0, 'faculdade')\n",
      "(1, 'Assistir Netflix', 1, 'laser')\n"
     ]
    }
   ],
   "source": [
    "tasks_with_categories = conn.execute(\n",
    "    \"\"\"\n",
    "    SELECT t.id, t.description, t.done, c.name \n",
    "    FROM tasks AS t \n",
    "    INNER JOIN categories AS c\n",
    "      ON c.id = t.category_id\n",
    "    ORDER BY c.name\n",
    "    \"\"\"\n",
    ").fetchall()\n",
    "\n",
    "for task in tasks_with_categories:\n",
    "    print(task)"
   ]
  },
  {
   "cell_type": "code",
   "execution_count": 112,
   "id": "a1612fd4-5319-46a5-962c-de5c287fabbb",
   "metadata": {},
   "outputs": [
    {
     "data": {
      "text/html": [
       "<div>\n",
       "<style scoped>\n",
       "    .dataframe tbody tr th:only-of-type {\n",
       "        vertical-align: middle;\n",
       "    }\n",
       "\n",
       "    .dataframe tbody tr th {\n",
       "        vertical-align: top;\n",
       "    }\n",
       "\n",
       "    .dataframe thead th {\n",
       "        text-align: right;\n",
       "    }\n",
       "</style>\n",
       "<table border=\"1\" class=\"dataframe\">\n",
       "  <thead>\n",
       "    <tr style=\"text-align: right;\">\n",
       "      <th></th>\n",
       "      <th>id</th>\n",
       "      <th>description</th>\n",
       "      <th>done</th>\n",
       "      <th>name</th>\n",
       "    </tr>\n",
       "  </thead>\n",
       "  <tbody>\n",
       "    <tr>\n",
       "      <th>0</th>\n",
       "      <td>5</td>\n",
       "      <td>Lavar louça</td>\n",
       "      <td>0</td>\n",
       "      <td>casa</td>\n",
       "    </tr>\n",
       "    <tr>\n",
       "      <th>1</th>\n",
       "      <td>2</td>\n",
       "      <td>Estudar matplotlib</td>\n",
       "      <td>0</td>\n",
       "      <td>faculdade</td>\n",
       "    </tr>\n",
       "    <tr>\n",
       "      <th>2</th>\n",
       "      <td>3</td>\n",
       "      <td>Estudar seaborn</td>\n",
       "      <td>0</td>\n",
       "      <td>faculdade</td>\n",
       "    </tr>\n",
       "    <tr>\n",
       "      <th>3</th>\n",
       "      <td>4</td>\n",
       "      <td>Estudar Pandas</td>\n",
       "      <td>0</td>\n",
       "      <td>faculdade</td>\n",
       "    </tr>\n",
       "    <tr>\n",
       "      <th>4</th>\n",
       "      <td>1</td>\n",
       "      <td>Assistir Netflix</td>\n",
       "      <td>1</td>\n",
       "      <td>laser</td>\n",
       "    </tr>\n",
       "  </tbody>\n",
       "</table>\n",
       "</div>"
      ],
      "text/plain": [
       "   id         description  done       name\n",
       "0   5         Lavar louça     0       casa\n",
       "1   2  Estudar matplotlib     0  faculdade\n",
       "2   3     Estudar seaborn     0  faculdade\n",
       "3   4      Estudar Pandas     0  faculdade\n",
       "4   1    Assistir Netflix     1      laser"
      ]
     },
     "execution_count": 112,
     "metadata": {},
     "output_type": "execute_result"
    }
   ],
   "source": [
    "df = pd.read_sql_query(\n",
    "    \"\"\"\n",
    "    SELECT t.id, t.description, t.done, c.name \n",
    "    FROM tasks AS t \n",
    "    INNER JOIN categories AS c\n",
    "      ON c.id = t.category_id\n",
    "    ORDER BY c.name\n",
    "    \"\"\",\n",
    "    conn\n",
    ")\n",
    "df\n"
   ]
  },
  {
   "cell_type": "code",
   "execution_count": 114,
   "id": "4af3193c-b2bb-4bbf-9b2c-718793f4f938",
   "metadata": {},
   "outputs": [],
   "source": [
    "conn.close()"
   ]
  }
 ],
 "metadata": {
  "kernelspec": {
   "display_name": "Python [conda env:base] *",
   "language": "python",
   "name": "conda-base-py"
  },
  "language_info": {
   "codemirror_mode": {
    "name": "ipython",
    "version": 3
   },
   "file_extension": ".py",
   "mimetype": "text/x-python",
   "name": "python",
   "nbconvert_exporter": "python",
   "pygments_lexer": "ipython3",
   "version": "3.12.7"
  }
 },
 "nbformat": 4,
 "nbformat_minor": 5
}
